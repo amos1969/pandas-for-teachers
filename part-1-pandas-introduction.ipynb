{
 "cells": [
  {
   "cell_type": "markdown",
   "metadata": {
    "collapsed": true
   },
   "source": [
    "# Getting started with Pandas\n",
    "\n",
    "Before we do anything else, we need to generate some data to work on. Please take a minute to go to this [Google Form](https://goo.gl/forms/0z9uk5jWlfIp1KAf2) and fill out some data about yourself (only share things you are willing to make public). Thanks!\n",
    "\n",
    "Once you have done that, while you wait for the other attendees to complete the form, please could you take the time to go to [this form](https://goo.gl/forms/DqC9ZowerH0otE2I3) and fill it out. This is a survey to gather some information for the CAS Research Group into what aspects fo Data Science are already happening in  schools."
   ]
  },
  {
   "cell_type": "markdown",
   "metadata": {},
   "source": [
    "Once this is done, you'll all need to grab a copy of the results. Go [here](https://drive.google.com/drive/folders/0B0ZesRdIs8dMOXVreUE5WmhNZFE?usp=sharing) to get a copy of the CSV file.\n",
    "\n",
    "Rename it (if necessary to results.csv and save it in the same directory as this ipynb file)"
   ]
  },
  {
   "cell_type": "markdown",
   "metadata": {},
   "source": [
    "First of all we need to do some import statements. These can go anywhere in your code, but it's arguably easier to maintain, if all of the imports are kept together in the same cell. So if you need to add anymore modules later on, add the import statement in the next cell and re-evaluate it.\n",
    "\n",
    "To run the cell either put the cursor in the cell and click on the **run** icon above, or place your cursor in the cell and press **CTRL** and **ENTER** together. (**SHIFT** and **ENTER** also works)."
   ]
  },
  {
   "cell_type": "code",
   "execution_count": null,
   "metadata": {
    "collapsed": true
   },
   "outputs": [],
   "source": [
    "import pandas as pd"
   ]
  },
  {
   "cell_type": "markdown",
   "metadata": {},
   "source": [
    "Now we are going to load up our CSV file into a Pandas DataFrame. This is a special data structure that has many methods attached that allow it to behave like a Python version of a spreadsheet or a table, but stored in a variable in your program.\n",
    "\n",
    "Run the code below by clicking into the cell and doing the same as before.\n",
    "\n",
    "You should see a number appear in the square brackets to the left of the cell, this tells you that the cell has successfully been evaluated (an asterisk appears first to show that the code is in the process of being run). The number equates to what order the cells have been run in."
   ]
  },
  {
   "cell_type": "code",
   "execution_count": null,
   "metadata": {
    "collapsed": true
   },
   "outputs": [],
   "source": [
    "my_data_frame = pd.read_csv(\"responses.csv\")"
   ]
  },
  {
   "cell_type": "markdown",
   "metadata": {},
   "source": [
    "To see what's inside any variable at any given point we can just put the name of the variable on its' own and evaluate it, this is the same as in the standard Python Shell, as the Notebook is essentially a souped up version of the Python Shell on serious amounts of steroids."
   ]
  },
  {
   "cell_type": "code",
   "execution_count": null,
   "metadata": {
    "collapsed": true
   },
   "outputs": [],
   "source": [
    "my_data_frame"
   ]
  },
  {
   "cell_type": "markdown",
   "metadata": {},
   "source": [
    "We can access the data in a variety of ways, but normally we want to use the column headings as a way of identifying the columns. These default to the values that we had when importing the data. We can change these, in code, in a bit as the existing ones are likely to be problematic when we come to reference them. Alternatively we could edit the column headings in the CSV file before we import it."
   ]
  },
  {
   "cell_type": "code",
   "execution_count": null,
   "metadata": {
    "collapsed": true
   },
   "outputs": [],
   "source": [
    "my_data_frame.columns"
   ]
  },
  {
   "cell_type": "markdown",
   "metadata": {},
   "source": [
    "The index on the rows is much simpler as it defaults to numbering the rows, individually. We can if we choose (and providing the values are unique) assign another column to be the index, but with the current dataset it's probably easier to just use the preassigned indices (the plural of index)."
   ]
  },
  {
   "cell_type": "code",
   "execution_count": null,
   "metadata": {
    "collapsed": true
   },
   "outputs": [],
   "source": [
    "my_data_frame.index"
   ]
  },
  {
   "cell_type": "markdown",
   "metadata": {},
   "source": [
    "We can also look at the shape our DataFrame makes, notice that neither the column headings, row, nor the index column are counted as being part of the data. Instead it returns a tuple telling us how many columns and how many rows are in the dataset. If you are looking at a spreadsheet of the data then the numbers on the rows won't match, can you work out why?"
   ]
  },
  {
   "cell_type": "code",
   "execution_count": null,
   "metadata": {
    "collapsed": true
   },
   "outputs": [],
   "source": [
    "my_data_frame.shape"
   ]
  },
  {
   "cell_type": "markdown",
   "metadata": {},
   "source": [
    "We can rename the columns in a number of ways, one is to create a list of the new column names and assign them to a special attribute of the data frame called columns (in our case this will be: **my_data_frame.columns = [...]**)\n",
    "\n",
    "You can call the columns anything you want, but for now it's probably easiest to make them the same as mine."
   ]
  },
  {
   "cell_type": "code",
   "execution_count": null,
   "metadata": {
    "collapsed": true
   },
   "outputs": [],
   "source": [
    "my_data_frame.columns = [\"timestamp\", \"firstname\", \"surname\", \"age\", \n",
    "                         \"transport\", \"distance\", \"time\", \"postcode\", \"sleep\"]\n"
   ]
  },
  {
   "cell_type": "code",
   "execution_count": null,
   "metadata": {
    "collapsed": true
   },
   "outputs": [],
   "source": [
    "my_data_frame"
   ]
  },
  {
   "cell_type": "markdown",
   "metadata": {},
   "source": [
    "The Timestamp column isn't really relevant to our data so we're going to remove it and store the resulting dataframe into a new variable. \n",
    "\n",
    "What we actually do is select all of the rows *the colon before the first comma*, and the columns *starting from the one called \"firstname\" up to and including the column called \"sleep\"*. Pandas uses a variation of the Python slice notation from lists and strings here (the colons). If you aren't familiar with the slice notation go here for a overview - [StackOverflow](https://stackoverflow.com/questions/509211/understanding-pythons-slice-notation)"
   ]
  },
  {
   "cell_type": "code",
   "execution_count": null,
   "metadata": {
    "collapsed": true
   },
   "outputs": [],
   "source": [
    "my_df = my_data_frame.loc[:, \"firstname\":\"sleep\"]"
   ]
  },
  {
   "cell_type": "code",
   "execution_count": null,
   "metadata": {
    "collapsed": true
   },
   "outputs": [],
   "source": [
    "my_df"
   ]
  },
  {
   "cell_type": "markdown",
   "metadata": {},
   "source": [
    "If we want to do **things** to parts of the data, we can slice and dice it in a variety of ways...\n",
    "\n",
    "For instance to get to an individual \"cell\" in the dataframe, we refer to it by its' exact row and column (in that order and use the **.at** command).\n",
    "\n",
    "Basically it looks like:  \n",
    "**some_data_frame.at[row_index, column_name_in_quotes]**"
   ]
  },
  {
   "cell_type": "code",
   "execution_count": null,
   "metadata": {
    "collapsed": true
   },
   "outputs": [],
   "source": [
    "my_df.at[2, \"age\"]"
   ]
  },
  {
   "cell_type": "markdown",
   "metadata": {},
   "source": [
    "We can also select individual rows, by using the **.loc** keyword like this:  \n",
    "**some_data_frame.loc[row_index]**"
   ]
  },
  {
   "cell_type": "code",
   "execution_count": null,
   "metadata": {
    "collapsed": true
   },
   "outputs": [],
   "source": [
    "my_df.loc[4]"
   ]
  },
  {
   "cell_type": "markdown",
   "metadata": {},
   "source": [
    "Similarly we can get to individual columns, but this time we can just use the dataframe's name and the column name:\n",
    "**some_data_frame[column_name_in_quotes]**"
   ]
  },
  {
   "cell_type": "code",
   "execution_count": null,
   "metadata": {
    "collapsed": true
   },
   "outputs": [],
   "source": [
    "my_df[\"sleep\"]"
   ]
  },
  {
   "cell_type": "markdown",
   "metadata": {},
   "source": [
    "The first column that displays is the index."
   ]
  },
  {
   "cell_type": "markdown",
   "metadata": {},
   "source": [
    "There are a whole host of mathematical operations we can perform on columns. Each time we use the above notation to specify the column we want."
   ]
  },
  {
   "cell_type": "markdown",
   "metadata": {},
   "source": [
    "Here's how to find the mean:  \n",
    "**some_data_frame[column_name_in_quotes].mean()**"
   ]
  },
  {
   "cell_type": "code",
   "execution_count": null,
   "metadata": {
    "collapsed": true
   },
   "outputs": [],
   "source": [
    "my_df[\"age\"].mean()"
   ]
  },
  {
   "cell_type": "markdown",
   "metadata": {},
   "source": [
    "Try running it on some of the other numerical columns. What happens if you run it on the \"firstname\" column? What happens if you apply it to a row."
   ]
  },
  {
   "cell_type": "markdown",
   "metadata": {},
   "source": [
    "We can do similar things to find the median and the mode."
   ]
  },
  {
   "cell_type": "code",
   "execution_count": null,
   "metadata": {
    "collapsed": true
   },
   "outputs": [],
   "source": [
    "my_df[\"sleep\"].median()"
   ]
  },
  {
   "cell_type": "code",
   "execution_count": null,
   "metadata": {
    "collapsed": true
   },
   "outputs": [],
   "source": [
    "my_df[\"sleep\"].mode()"
   ]
  },
  {
   "cell_type": "markdown",
   "metadata": {},
   "source": [
    "We can also use mode on text based columns as it works with categorical data too."
   ]
  },
  {
   "cell_type": "code",
   "execution_count": null,
   "metadata": {
    "collapsed": true
   },
   "outputs": [],
   "source": [
    "my_df[\"transport\"].mode()"
   ]
  },
  {
   "cell_type": "markdown",
   "metadata": {},
   "source": [
    "There are a load of other similar basic maths/stats functions which we can access too."
   ]
  },
  {
   "cell_type": "code",
   "execution_count": null,
   "metadata": {
    "collapsed": true
   },
   "outputs": [],
   "source": [
    "my_df[\"distance\"].sum()"
   ]
  },
  {
   "cell_type": "code",
   "execution_count": null,
   "metadata": {
    "collapsed": true
   },
   "outputs": [],
   "source": [
    "my_df[\"transport\"].count()"
   ]
  },
  {
   "cell_type": "code",
   "execution_count": null,
   "metadata": {
    "collapsed": true
   },
   "outputs": [],
   "source": [
    "my_df[\"sleep\"].describe()"
   ]
  },
  {
   "cell_type": "code",
   "execution_count": null,
   "metadata": {
    "collapsed": true
   },
   "outputs": [],
   "source": [
    "my_df[\"transport\"].describe()"
   ]
  },
  {
   "cell_type": "code",
   "execution_count": null,
   "metadata": {
    "collapsed": true
   },
   "outputs": [],
   "source": [
    "my_df[\"distance\"].std()"
   ]
  },
  {
   "cell_type": "code",
   "execution_count": null,
   "metadata": {
    "collapsed": true
   },
   "outputs": [],
   "source": [
    "my_df[\"time\"].min()"
   ]
  },
  {
   "cell_type": "code",
   "execution_count": null,
   "metadata": {
    "collapsed": true
   },
   "outputs": [],
   "source": [
    "my_df[\"time\"].max()"
   ]
  },
  {
   "cell_type": "code",
   "execution_count": null,
   "metadata": {
    "collapsed": true
   },
   "outputs": [],
   "source": [
    "my_df[\"sleep\"].rank()"
   ]
  },
  {
   "cell_type": "markdown",
   "metadata": {},
   "source": [
    "We can also create various mathematical diagrams for our data, this uses the **matplotlib** library behind the scenes. If we want the diagrams to appear in the browser (and we do) then we need to run the next line of code, so that they will appear."
   ]
  },
  {
   "cell_type": "code",
   "execution_count": null,
   "metadata": {
    "collapsed": true
   },
   "outputs": [],
   "source": [
    "%matplotlib inline"
   ]
  },
  {
   "cell_type": "markdown",
   "metadata": {},
   "source": [
    "Basically lines which start with a **%** are special **magic** lines which affect the output in various ways."
   ]
  },
  {
   "cell_type": "markdown",
   "metadata": {},
   "source": [
    "The following code will crate a bar chart of the distance data based on the person's surname."
   ]
  },
  {
   "cell_type": "code",
   "execution_count": null,
   "metadata": {
    "collapsed": true
   },
   "outputs": [],
   "source": [
    "my_df.plot.bar(x=\"surname\", y=\"distance\")"
   ]
  },
  {
   "cell_type": "markdown",
   "metadata": {},
   "source": [
    "The next one does the same but for the age column."
   ]
  },
  {
   "cell_type": "code",
   "execution_count": null,
   "metadata": {
    "collapsed": true
   },
   "outputs": [],
   "source": [
    "my_df.plot.bar(x=\"surname\", y=\"age\")"
   ]
  },
  {
   "cell_type": "markdown",
   "metadata": {},
   "source": [
    "We can also plot bars for all of the numerical columns, grouped by **surname**."
   ]
  },
  {
   "cell_type": "code",
   "execution_count": null,
   "metadata": {
    "collapsed": true
   },
   "outputs": [],
   "source": [
    "my_df.plot.bar(\"surname\")"
   ]
  },
  {
   "cell_type": "markdown",
   "metadata": {},
   "source": [
    "We can change the size of the outputted image by passing in the size we want."
   ]
  },
  {
   "cell_type": "code",
   "execution_count": null,
   "metadata": {
    "collapsed": true
   },
   "outputs": [],
   "source": [
    "my_df.plot.bar(\"surname\", figsize=(200, 200))"
   ]
  },
  {
   "cell_type": "markdown",
   "metadata": {},
   "source": [
    "We can plot a line graph, of names against distance too (although Mathematically this is gibberish)."
   ]
  },
  {
   "cell_type": "code",
   "execution_count": null,
   "metadata": {
    "collapsed": true
   },
   "outputs": [],
   "source": [
    "my_df.plot.line(x=\"surname\", rot=90, y=\"distance\")"
   ]
  },
  {
   "cell_type": "markdown",
   "metadata": {},
   "source": [
    "A scatter diagram showing the relationship between **Journey time** and **Distance** may make more sense."
   ]
  },
  {
   "cell_type": "code",
   "execution_count": null,
   "metadata": {
    "collapsed": true
   },
   "outputs": [],
   "source": [
    "my_df.plot.scatter(x=\"time\", y=\"distance\")"
   ]
  },
  {
   "cell_type": "markdown",
   "metadata": {},
   "source": [
    "There is more information about a variety of plot types here: [Pandas Documentation][1]\n",
    "\n",
    "[1]: https://pandas.pydata.org/pandas-docs/stable/visualization.html"
   ]
  },
  {
   "cell_type": "markdown",
   "metadata": {},
   "source": [
    "We can extract rows based on specific criteria and then run plot on this subset of data, very easily (here we extract those arriving by car)."
   ]
  },
  {
   "cell_type": "code",
   "execution_count": null,
   "metadata": {
    "collapsed": true
   },
   "outputs": [],
   "source": [
    "my_df[my_df.transport == \"Car\"].plot.scatter(x=\"time\", y=\"distance\")"
   ]
  },
  {
   "cell_type": "markdown",
   "metadata": {},
   "source": [
    "We can do the same with just train people."
   ]
  },
  {
   "cell_type": "code",
   "execution_count": null,
   "metadata": {
    "collapsed": true
   },
   "outputs": [],
   "source": [
    "my_df[my_df.transport == \"Train\"].plot.scatter(x=\"time\", y=\"distance\")"
   ]
  },
  {
   "cell_type": "markdown",
   "metadata": {},
   "source": [
    "Have a play and see what else you can mange to generate/find out!"
   ]
  }
 ],
 "metadata": {
  "kernelspec": {
   "display_name": "Python 3",
   "language": "python",
   "name": "python3"
  },
  "language_info": {
   "codemirror_mode": {
    "name": "ipython",
    "version": 3
   },
   "file_extension": ".py",
   "mimetype": "text/x-python",
   "name": "python",
   "nbconvert_exporter": "python",
   "pygments_lexer": "ipython3",
   "version": "3.5.2"
  }
 },
 "nbformat": 4,
 "nbformat_minor": 2
}
