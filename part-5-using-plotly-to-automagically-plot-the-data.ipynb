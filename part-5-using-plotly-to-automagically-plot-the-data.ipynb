{
 "cells": [
  {
   "cell_type": "markdown",
   "metadata": {},
   "source": [
    "# Plotly \n",
    "\n",
    "**This is still a work in progress.**"
   ]
  },
  {
   "cell_type": "code",
   "execution_count": null,
   "metadata": {},
   "outputs": [],
   "source": [
    "import pandas as pd\n",
    "import plotly as py\n",
    "import plotly.graph_objs as go\n",
    "print(py.__version__)           # version 1.9.4 required\n",
    "py.offline.init_notebook_mode() # run at the start of every notebook"
   ]
  },
  {
   "cell_type": "code",
   "execution_count": null,
   "metadata": {},
   "outputs": [],
   "source": [
    "df = pd.read_csv(\"aquatics.csv\", parse_dates=[\"timestamp\"])\n",
    "\n",
    "data = [\n",
    "    go.Scatter(\n",
    "        x=df['timestamp'], # assign x as the dataframe column 'x'\n",
    "        y=df['spaces']\n",
    "    )\n",
    "]\n",
    "# IPython notebook\n",
    "py.offline.iplot(data, filename='pandas/basic-line-plot')"
   ]
  },
  {
   "cell_type": "code",
   "execution_count": null,
   "metadata": {
    "collapsed": true
   },
   "outputs": [],
   "source": []
  }
 ],
 "metadata": {
  "kernelspec": {
   "display_name": "Python 3",
   "language": "python",
   "name": "python3"
  },
  "language_info": {
   "codemirror_mode": {
    "name": "ipython",
    "version": 3
   },
   "file_extension": ".py",
   "mimetype": "text/x-python",
   "name": "python",
   "nbconvert_exporter": "python",
   "pygments_lexer": "ipython3",
   "version": "3.5.2"
  }
 },
 "nbformat": 4,
 "nbformat_minor": 2
}
