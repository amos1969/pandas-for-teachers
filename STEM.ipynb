{
 "cells": [
  {
   "cell_type": "markdown",
   "metadata": {},
   "source": [
    "We're going to use the spreadsheet we created when people were arriving to show how easy it is to get data into a Jupyter Notebook and then do **stuff** to it."
   ]
  },
  {
   "cell_type": "code",
   "execution_count": 23,
   "metadata": {
    "collapsed": true
   },
   "outputs": [],
   "source": [
    "import pandas as pd\n",
    "my_data_frame = pd.read_csv(\"responses.csv\")"
   ]
  },
  {
   "cell_type": "code",
   "execution_count": 24,
   "metadata": {},
   "outputs": [
    {
     "data": {
      "text/html": [
       "<div>\n",
       "<style>\n",
       "    .dataframe thead tr:only-child th {\n",
       "        text-align: right;\n",
       "    }\n",
       "\n",
       "    .dataframe thead th {\n",
       "        text-align: left;\n",
       "    }\n",
       "\n",
       "    .dataframe tbody tr th {\n",
       "        vertical-align: top;\n",
       "    }\n",
       "</style>\n",
       "<table border=\"1\" class=\"dataframe\">\n",
       "  <thead>\n",
       "    <tr style=\"text-align: right;\">\n",
       "      <th></th>\n",
       "      <th>Timestamp</th>\n",
       "      <th>First Name</th>\n",
       "      <th>Surname</th>\n",
       "      <th>Age</th>\n",
       "      <th>Transport</th>\n",
       "      <th>Distance</th>\n",
       "      <th>Postcode</th>\n",
       "      <th>Journey Time</th>\n",
       "    </tr>\n",
       "  </thead>\n",
       "  <tbody>\n",
       "    <tr>\n",
       "      <th>0</th>\n",
       "      <td>07/09/2017 16:14</td>\n",
       "      <td>Sue</td>\n",
       "      <td>Finnigan</td>\n",
       "      <td>53</td>\n",
       "      <td>Car</td>\n",
       "      <td>66</td>\n",
       "      <td>S1 4SP</td>\n",
       "      <td>1.75</td>\n",
       "    </tr>\n",
       "    <tr>\n",
       "      <th>1</th>\n",
       "      <td>07/10/2017 14:26</td>\n",
       "      <td>Dave</td>\n",
       "      <td>Gibbs</td>\n",
       "      <td>42</td>\n",
       "      <td>Car</td>\n",
       "      <td>59</td>\n",
       "      <td>S10 1FB</td>\n",
       "      <td>1.25</td>\n",
       "    </tr>\n",
       "    <tr>\n",
       "      <th>2</th>\n",
       "      <td>7/13/2017 9:56:52</td>\n",
       "      <td>Dave</td>\n",
       "      <td>Ames</td>\n",
       "      <td>48</td>\n",
       "      <td>Car</td>\n",
       "      <td>78</td>\n",
       "      <td>BL1 3DU</td>\n",
       "      <td>1.50</td>\n",
       "    </tr>\n",
       "    <tr>\n",
       "      <th>3</th>\n",
       "      <td>7/13/2017 9:57:27</td>\n",
       "      <td>Leona</td>\n",
       "      <td>So</td>\n",
       "      <td>33</td>\n",
       "      <td>Car</td>\n",
       "      <td>67</td>\n",
       "      <td>M1 3HB</td>\n",
       "      <td>2.00</td>\n",
       "    </tr>\n",
       "    <tr>\n",
       "      <th>4</th>\n",
       "      <td>7/13/2017 9:58:14</td>\n",
       "      <td>Carrie</td>\n",
       "      <td>Preddy</td>\n",
       "      <td>32</td>\n",
       "      <td>Car</td>\n",
       "      <td>70</td>\n",
       "      <td>WN75HG</td>\n",
       "      <td>2.00</td>\n",
       "    </tr>\n",
       "    <tr>\n",
       "      <th>5</th>\n",
       "      <td>7/13/2017 9:58:30</td>\n",
       "      <td>Dave</td>\n",
       "      <td>Joyce</td>\n",
       "      <td>40</td>\n",
       "      <td>Train</td>\n",
       "      <td>60</td>\n",
       "      <td>S35 0AE</td>\n",
       "      <td>2.80</td>\n",
       "    </tr>\n",
       "    <tr>\n",
       "      <th>6</th>\n",
       "      <td>7/13/2017 9:58:36</td>\n",
       "      <td>Chris</td>\n",
       "      <td>Sharples</td>\n",
       "      <td>51</td>\n",
       "      <td>Car</td>\n",
       "      <td>4</td>\n",
       "      <td>YO232QR</td>\n",
       "      <td>0.33</td>\n",
       "    </tr>\n",
       "    <tr>\n",
       "      <th>7</th>\n",
       "      <td>7/13/2017 9:58:48</td>\n",
       "      <td>Kamru</td>\n",
       "      <td>Miah</td>\n",
       "      <td>54</td>\n",
       "      <td>Car</td>\n",
       "      <td>5</td>\n",
       "      <td>YO31 9AB</td>\n",
       "      <td>0.25</td>\n",
       "    </tr>\n",
       "  </tbody>\n",
       "</table>\n",
       "</div>"
      ],
      "text/plain": [
       "           Timestamp First Name   Surname  Age Transport  Distance  Postcode  \\\n",
       "0   07/09/2017 16:14        Sue  Finnigan   53       Car        66    S1 4SP   \n",
       "1   07/10/2017 14:26       Dave     Gibbs   42       Car        59   S10 1FB   \n",
       "2  7/13/2017 9:56:52       Dave      Ames   48       Car        78   BL1 3DU   \n",
       "3  7/13/2017 9:57:27      Leona        So   33       Car        67    M1 3HB   \n",
       "4  7/13/2017 9:58:14     Carrie    Preddy   32       Car        70    WN75HG   \n",
       "5  7/13/2017 9:58:30       Dave     Joyce   40     Train        60   S35 0AE   \n",
       "6  7/13/2017 9:58:36      Chris  Sharples   51       Car         4   YO232QR   \n",
       "7  7/13/2017 9:58:48      Kamru      Miah   54       Car         5  YO31 9AB   \n",
       "\n",
       "   Journey Time  \n",
       "0          1.75  \n",
       "1          1.25  \n",
       "2          1.50  \n",
       "3          2.00  \n",
       "4          2.00  \n",
       "5          2.80  \n",
       "6          0.33  \n",
       "7          0.25  "
      ]
     },
     "execution_count": 24,
     "metadata": {},
     "output_type": "execute_result"
    }
   ],
   "source": [
    "my_data_frame"
   ]
  },
  {
   "cell_type": "markdown",
   "metadata": {},
   "source": [
    "We can set a specific column as the index (like with a database), but we then have to save the dataframe into a new variable:  \n",
    "  \n",
    "  <center>**some_other_df = some_data_frame.set_index(\"Some Column Name\")**</center>\n"
   ]
  },
  {
   "cell_type": "code",
   "execution_count": 25,
   "metadata": {},
   "outputs": [
    {
     "data": {
      "text/html": [
       "<div>\n",
       "<style>\n",
       "    .dataframe thead tr:only-child th {\n",
       "        text-align: right;\n",
       "    }\n",
       "\n",
       "    .dataframe thead th {\n",
       "        text-align: left;\n",
       "    }\n",
       "\n",
       "    .dataframe tbody tr th {\n",
       "        vertical-align: top;\n",
       "    }\n",
       "</style>\n",
       "<table border=\"1\" class=\"dataframe\">\n",
       "  <thead>\n",
       "    <tr style=\"text-align: right;\">\n",
       "      <th></th>\n",
       "      <th>First Name</th>\n",
       "      <th>Surname</th>\n",
       "      <th>Age</th>\n",
       "      <th>Transport</th>\n",
       "      <th>Distance</th>\n",
       "      <th>Postcode</th>\n",
       "      <th>Journey Time</th>\n",
       "    </tr>\n",
       "    <tr>\n",
       "      <th>Timestamp</th>\n",
       "      <th></th>\n",
       "      <th></th>\n",
       "      <th></th>\n",
       "      <th></th>\n",
       "      <th></th>\n",
       "      <th></th>\n",
       "      <th></th>\n",
       "    </tr>\n",
       "  </thead>\n",
       "  <tbody>\n",
       "    <tr>\n",
       "      <th>07/09/2017 16:14</th>\n",
       "      <td>Sue</td>\n",
       "      <td>Finnigan</td>\n",
       "      <td>53</td>\n",
       "      <td>Car</td>\n",
       "      <td>66</td>\n",
       "      <td>S1 4SP</td>\n",
       "      <td>1.75</td>\n",
       "    </tr>\n",
       "    <tr>\n",
       "      <th>07/10/2017 14:26</th>\n",
       "      <td>Dave</td>\n",
       "      <td>Gibbs</td>\n",
       "      <td>42</td>\n",
       "      <td>Car</td>\n",
       "      <td>59</td>\n",
       "      <td>S10 1FB</td>\n",
       "      <td>1.25</td>\n",
       "    </tr>\n",
       "    <tr>\n",
       "      <th>7/13/2017 9:56:52</th>\n",
       "      <td>Dave</td>\n",
       "      <td>Ames</td>\n",
       "      <td>48</td>\n",
       "      <td>Car</td>\n",
       "      <td>78</td>\n",
       "      <td>BL1 3DU</td>\n",
       "      <td>1.50</td>\n",
       "    </tr>\n",
       "    <tr>\n",
       "      <th>7/13/2017 9:57:27</th>\n",
       "      <td>Leona</td>\n",
       "      <td>So</td>\n",
       "      <td>33</td>\n",
       "      <td>Car</td>\n",
       "      <td>67</td>\n",
       "      <td>M1 3HB</td>\n",
       "      <td>2.00</td>\n",
       "    </tr>\n",
       "    <tr>\n",
       "      <th>7/13/2017 9:58:14</th>\n",
       "      <td>Carrie</td>\n",
       "      <td>Preddy</td>\n",
       "      <td>32</td>\n",
       "      <td>Car</td>\n",
       "      <td>70</td>\n",
       "      <td>WN75HG</td>\n",
       "      <td>2.00</td>\n",
       "    </tr>\n",
       "    <tr>\n",
       "      <th>7/13/2017 9:58:30</th>\n",
       "      <td>Dave</td>\n",
       "      <td>Joyce</td>\n",
       "      <td>40</td>\n",
       "      <td>Train</td>\n",
       "      <td>60</td>\n",
       "      <td>S35 0AE</td>\n",
       "      <td>2.80</td>\n",
       "    </tr>\n",
       "    <tr>\n",
       "      <th>7/13/2017 9:58:36</th>\n",
       "      <td>Chris</td>\n",
       "      <td>Sharples</td>\n",
       "      <td>51</td>\n",
       "      <td>Car</td>\n",
       "      <td>4</td>\n",
       "      <td>YO232QR</td>\n",
       "      <td>0.33</td>\n",
       "    </tr>\n",
       "    <tr>\n",
       "      <th>7/13/2017 9:58:48</th>\n",
       "      <td>Kamru</td>\n",
       "      <td>Miah</td>\n",
       "      <td>54</td>\n",
       "      <td>Car</td>\n",
       "      <td>5</td>\n",
       "      <td>YO31 9AB</td>\n",
       "      <td>0.25</td>\n",
       "    </tr>\n",
       "  </tbody>\n",
       "</table>\n",
       "</div>"
      ],
      "text/plain": [
       "                  First Name   Surname  Age Transport  Distance  Postcode  \\\n",
       "Timestamp                                                                   \n",
       "07/09/2017 16:14         Sue  Finnigan   53       Car        66    S1 4SP   \n",
       "07/10/2017 14:26        Dave     Gibbs   42       Car        59   S10 1FB   \n",
       "7/13/2017 9:56:52       Dave      Ames   48       Car        78   BL1 3DU   \n",
       "7/13/2017 9:57:27      Leona        So   33       Car        67    M1 3HB   \n",
       "7/13/2017 9:58:14     Carrie    Preddy   32       Car        70    WN75HG   \n",
       "7/13/2017 9:58:30       Dave     Joyce   40     Train        60   S35 0AE   \n",
       "7/13/2017 9:58:36      Chris  Sharples   51       Car         4   YO232QR   \n",
       "7/13/2017 9:58:48      Kamru      Miah   54       Car         5  YO31 9AB   \n",
       "\n",
       "                   Journey Time  \n",
       "Timestamp                        \n",
       "07/09/2017 16:14           1.75  \n",
       "07/10/2017 14:26           1.25  \n",
       "7/13/2017 9:56:52          1.50  \n",
       "7/13/2017 9:57:27          2.00  \n",
       "7/13/2017 9:58:14          2.00  \n",
       "7/13/2017 9:58:30          2.80  \n",
       "7/13/2017 9:58:36          0.33  \n",
       "7/13/2017 9:58:48          0.25  "
      ]
     },
     "execution_count": 25,
     "metadata": {},
     "output_type": "execute_result"
    }
   ],
   "source": [
    "my_df = my_data_frame.set_index(\"Timestamp\")\n",
    "#Now we inspect the resulting dataframe\n",
    "my_df"
   ]
  },
  {
   "cell_type": "markdown",
   "metadata": {},
   "source": [
    "We can extract the data we have in the dataframe in a variety of ways, using a variation of list slices (tell me if you don't know about list slicing so I can explain it).\n",
    "\n",
    "The syntax is:   \n",
    "             <center>**some_data_frame.loc[startrow:endrow, startcolumn:endcolumn]**</center>"
   ]
  },
  {
   "cell_type": "code",
   "execution_count": 26,
   "metadata": {},
   "outputs": [
    {
     "data": {
      "text/html": [
       "<div>\n",
       "<style>\n",
       "    .dataframe thead tr:only-child th {\n",
       "        text-align: right;\n",
       "    }\n",
       "\n",
       "    .dataframe thead th {\n",
       "        text-align: left;\n",
       "    }\n",
       "\n",
       "    .dataframe tbody tr th {\n",
       "        vertical-align: top;\n",
       "    }\n",
       "</style>\n",
       "<table border=\"1\" class=\"dataframe\">\n",
       "  <thead>\n",
       "    <tr style=\"text-align: right;\">\n",
       "      <th></th>\n",
       "      <th>Age</th>\n",
       "      <th>Transport</th>\n",
       "      <th>Distance</th>\n",
       "    </tr>\n",
       "    <tr>\n",
       "      <th>Timestamp</th>\n",
       "      <th></th>\n",
       "      <th></th>\n",
       "      <th></th>\n",
       "    </tr>\n",
       "  </thead>\n",
       "  <tbody>\n",
       "    <tr>\n",
       "      <th>07/09/2017 16:14</th>\n",
       "      <td>53</td>\n",
       "      <td>Car</td>\n",
       "      <td>66</td>\n",
       "    </tr>\n",
       "    <tr>\n",
       "      <th>07/10/2017 14:26</th>\n",
       "      <td>42</td>\n",
       "      <td>Car</td>\n",
       "      <td>59</td>\n",
       "    </tr>\n",
       "  </tbody>\n",
       "</table>\n",
       "</div>"
      ],
      "text/plain": [
       "                  Age Transport  Distance\n",
       "Timestamp                                \n",
       "07/09/2017 16:14   53       Car        66\n",
       "07/10/2017 14:26   42       Car        59"
      ]
     },
     "execution_count": 26,
     "metadata": {},
     "output_type": "execute_result"
    }
   ],
   "source": [
    "my_df.loc[\"07/09/2017 16:14\":\"07/10/2017 14:26\", \"Age\":\"Distance\"]"
   ]
  },
  {
   "cell_type": "markdown",
   "metadata": {},
   "source": [
    "We can extract individual rows like this:\n",
    "           **some_data_frame.loc[somerow, :]**"
   ]
  },
  {
   "cell_type": "code",
   "execution_count": 27,
   "metadata": {},
   "outputs": [
    {
     "data": {
      "text/plain": [
       "First Name           Sue\n",
       "Surname         Finnigan\n",
       "Age                   53\n",
       "Transport            Car\n",
       "Distance              66\n",
       "Postcode          S1 4SP\n",
       "Journey Time        1.75\n",
       "Name: 07/09/2017 16:14, dtype: object"
      ]
     },
     "execution_count": 27,
     "metadata": {},
     "output_type": "execute_result"
    }
   ],
   "source": [
    "my_df.loc[\"07/09/2017 16:14\", :]"
   ]
  },
  {
   "cell_type": "markdown",
   "metadata": {},
   "source": [
    "We can also get an individual column like this: **some_data_frame[somecolumn]**"
   ]
  },
  {
   "cell_type": "code",
   "execution_count": 28,
   "metadata": {},
   "outputs": [
    {
     "data": {
      "text/plain": [
       "Timestamp\n",
       "07/09/2017 16:14     66\n",
       "07/10/2017 14:26     59\n",
       "7/13/2017 9:56:52    78\n",
       "7/13/2017 9:57:27    67\n",
       "7/13/2017 9:58:14    70\n",
       "7/13/2017 9:58:30    60\n",
       "7/13/2017 9:58:36     4\n",
       "7/13/2017 9:58:48     5\n",
       "Name: Distance, dtype: int64"
      ]
     },
     "execution_count": 28,
     "metadata": {},
     "output_type": "execute_result"
    }
   ],
   "source": [
    "my_df[\"Distance\"]"
   ]
  },
  {
   "cell_type": "markdown",
   "metadata": {},
   "source": [
    "When we have a single column like this we can then call methods on it, such as **mean()** or **median()** to find averages."
   ]
  },
  {
   "cell_type": "markdown",
   "metadata": {},
   "source": [
    "The **mean()** method returns the average we would expect."
   ]
  },
  {
   "cell_type": "code",
   "execution_count": 29,
   "metadata": {},
   "outputs": [
    {
     "data": {
      "text/plain": [
       "51.125"
      ]
     },
     "execution_count": 29,
     "metadata": {},
     "output_type": "execute_result"
    }
   ],
   "source": [
    "my_df[\"Distance\"].mean()"
   ]
  },
  {
   "cell_type": "markdown",
   "metadata": {},
   "source": [
    "As does the **median()**"
   ]
  },
  {
   "cell_type": "code",
   "execution_count": 30,
   "metadata": {},
   "outputs": [
    {
     "data": {
      "text/plain": [
       "63.0"
      ]
     },
     "execution_count": 30,
     "metadata": {},
     "output_type": "execute_result"
    }
   ],
   "source": [
    "my_df[\"Distance\"].median()"
   ]
  },
  {
   "cell_type": "markdown",
   "metadata": {},
   "source": [
    "And the **mode()**"
   ]
  },
  {
   "cell_type": "code",
   "execution_count": 31,
   "metadata": {},
   "outputs": [
    {
     "data": {
      "text/plain": [
       "0     4\n",
       "1     5\n",
       "2    59\n",
       "3    60\n",
       "4    66\n",
       "5    67\n",
       "6    70\n",
       "7    78\n",
       "dtype: int64"
      ]
     },
     "execution_count": 31,
     "metadata": {},
     "output_type": "execute_result"
    }
   ],
   "source": [
    "my_df[\"Distance\"].mode()"
   ]
  },
  {
   "cell_type": "markdown",
   "metadata": {},
   "source": [
    "The **sum()** method returns the total of the the column (or sum in Maths terms)."
   ]
  },
  {
   "cell_type": "code",
   "execution_count": 32,
   "metadata": {},
   "outputs": [
    {
     "data": {
      "text/plain": [
       "409"
      ]
     },
     "execution_count": 32,
     "metadata": {},
     "output_type": "execute_result"
    }
   ],
   "source": [
    "my_df[\"Distance\"].sum()"
   ]
  },
  {
   "cell_type": "markdown",
   "metadata": {},
   "source": [
    "The **count()** literally counts up the number of items in the column."
   ]
  },
  {
   "cell_type": "code",
   "execution_count": 33,
   "metadata": {},
   "outputs": [
    {
     "data": {
      "text/plain": [
       "8"
      ]
     },
     "execution_count": 33,
     "metadata": {},
     "output_type": "execute_result"
    }
   ],
   "source": [
    "my_df[\"Distance\"].count()"
   ]
  },
  {
   "cell_type": "markdown",
   "metadata": {},
   "source": [
    "Whereas the **describe()** method gives us a summary of various methods that could be useful."
   ]
  },
  {
   "cell_type": "code",
   "execution_count": 34,
   "metadata": {},
   "outputs": [
    {
     "data": {
      "text/plain": [
       "count     8.000000\n",
       "mean     51.125000\n",
       "std      29.376558\n",
       "min       4.000000\n",
       "25%      45.500000\n",
       "50%      63.000000\n",
       "75%      67.750000\n",
       "max      78.000000\n",
       "Name: Distance, dtype: float64"
      ]
     },
     "execution_count": 34,
     "metadata": {},
     "output_type": "execute_result"
    }
   ],
   "source": [
    "my_df[\"Distance\"].describe()"
   ]
  },
  {
   "cell_type": "markdown",
   "metadata": {},
   "source": [
    "The **max()** and **min()** methods return the maximum and minimum values in the column."
   ]
  },
  {
   "cell_type": "code",
   "execution_count": 35,
   "metadata": {},
   "outputs": [
    {
     "data": {
      "text/plain": [
       "78"
      ]
     },
     "execution_count": 35,
     "metadata": {},
     "output_type": "execute_result"
    }
   ],
   "source": [
    "my_df[\"Distance\"].max()"
   ]
  },
  {
   "cell_type": "code",
   "execution_count": 36,
   "metadata": {},
   "outputs": [
    {
     "data": {
      "text/plain": [
       "4"
      ]
     },
     "execution_count": 36,
     "metadata": {},
     "output_type": "execute_result"
    }
   ],
   "source": [
    "my_df[\"Distance\"].min()"
   ]
  },
  {
   "cell_type": "markdown",
   "metadata": {},
   "source": [
    "The **rank()** method tells us the order that the values are in size."
   ]
  },
  {
   "cell_type": "code",
   "execution_count": 37,
   "metadata": {},
   "outputs": [
    {
     "data": {
      "text/plain": [
       "Timestamp\n",
       "07/09/2017 16:14     5.0\n",
       "07/10/2017 14:26     3.0\n",
       "7/13/2017 9:56:52    8.0\n",
       "7/13/2017 9:57:27    6.0\n",
       "7/13/2017 9:58:14    7.0\n",
       "7/13/2017 9:58:30    4.0\n",
       "7/13/2017 9:58:36    1.0\n",
       "7/13/2017 9:58:48    2.0\n",
       "Name: Distance, dtype: float64"
      ]
     },
     "execution_count": 37,
     "metadata": {},
     "output_type": "execute_result"
    }
   ],
   "source": [
    "my_df[\"Distance\"].rank()"
   ]
  },
  {
   "cell_type": "code",
   "execution_count": 38,
   "metadata": {},
   "outputs": [
    {
     "data": {
      "text/html": [
       "<div>\n",
       "<style>\n",
       "    .dataframe thead tr:only-child th {\n",
       "        text-align: right;\n",
       "    }\n",
       "\n",
       "    .dataframe thead th {\n",
       "        text-align: left;\n",
       "    }\n",
       "\n",
       "    .dataframe tbody tr th {\n",
       "        vertical-align: top;\n",
       "    }\n",
       "</style>\n",
       "<table border=\"1\" class=\"dataframe\">\n",
       "  <thead>\n",
       "    <tr style=\"text-align: right;\">\n",
       "      <th></th>\n",
       "      <th>First Name</th>\n",
       "      <th>Surname</th>\n",
       "      <th>Age</th>\n",
       "      <th>Transport</th>\n",
       "      <th>Distance</th>\n",
       "      <th>Postcode</th>\n",
       "      <th>Journey Time</th>\n",
       "    </tr>\n",
       "    <tr>\n",
       "      <th>Timestamp</th>\n",
       "      <th></th>\n",
       "      <th></th>\n",
       "      <th></th>\n",
       "      <th></th>\n",
       "      <th></th>\n",
       "      <th></th>\n",
       "      <th></th>\n",
       "    </tr>\n",
       "  </thead>\n",
       "  <tbody>\n",
       "    <tr>\n",
       "      <th>07/09/2017 16:14</th>\n",
       "      <td>Sue</td>\n",
       "      <td>Finnigan</td>\n",
       "      <td>53</td>\n",
       "      <td>Car</td>\n",
       "      <td>66</td>\n",
       "      <td>S1 4SP</td>\n",
       "      <td>1.75</td>\n",
       "    </tr>\n",
       "    <tr>\n",
       "      <th>07/10/2017 14:26</th>\n",
       "      <td>Dave</td>\n",
       "      <td>Gibbs</td>\n",
       "      <td>42</td>\n",
       "      <td>Car</td>\n",
       "      <td>59</td>\n",
       "      <td>S10 1FB</td>\n",
       "      <td>1.25</td>\n",
       "    </tr>\n",
       "    <tr>\n",
       "      <th>7/13/2017 9:56:52</th>\n",
       "      <td>Dave</td>\n",
       "      <td>Ames</td>\n",
       "      <td>48</td>\n",
       "      <td>Car</td>\n",
       "      <td>78</td>\n",
       "      <td>BL1 3DU</td>\n",
       "      <td>1.50</td>\n",
       "    </tr>\n",
       "    <tr>\n",
       "      <th>7/13/2017 9:57:27</th>\n",
       "      <td>Leona</td>\n",
       "      <td>So</td>\n",
       "      <td>33</td>\n",
       "      <td>Car</td>\n",
       "      <td>67</td>\n",
       "      <td>M1 3HB</td>\n",
       "      <td>2.00</td>\n",
       "    </tr>\n",
       "    <tr>\n",
       "      <th>7/13/2017 9:58:14</th>\n",
       "      <td>Carrie</td>\n",
       "      <td>Preddy</td>\n",
       "      <td>32</td>\n",
       "      <td>Car</td>\n",
       "      <td>70</td>\n",
       "      <td>WN75HG</td>\n",
       "      <td>2.00</td>\n",
       "    </tr>\n",
       "    <tr>\n",
       "      <th>7/13/2017 9:58:30</th>\n",
       "      <td>Dave</td>\n",
       "      <td>Joyce</td>\n",
       "      <td>40</td>\n",
       "      <td>Train</td>\n",
       "      <td>60</td>\n",
       "      <td>S35 0AE</td>\n",
       "      <td>2.80</td>\n",
       "    </tr>\n",
       "    <tr>\n",
       "      <th>7/13/2017 9:58:36</th>\n",
       "      <td>Chris</td>\n",
       "      <td>Sharples</td>\n",
       "      <td>51</td>\n",
       "      <td>Car</td>\n",
       "      <td>4</td>\n",
       "      <td>YO232QR</td>\n",
       "      <td>0.33</td>\n",
       "    </tr>\n",
       "    <tr>\n",
       "      <th>7/13/2017 9:58:48</th>\n",
       "      <td>Kamru</td>\n",
       "      <td>Miah</td>\n",
       "      <td>54</td>\n",
       "      <td>Car</td>\n",
       "      <td>5</td>\n",
       "      <td>YO31 9AB</td>\n",
       "      <td>0.25</td>\n",
       "    </tr>\n",
       "  </tbody>\n",
       "</table>\n",
       "</div>"
      ],
      "text/plain": [
       "                  First Name   Surname  Age Transport  Distance  Postcode  \\\n",
       "Timestamp                                                                   \n",
       "07/09/2017 16:14         Sue  Finnigan   53       Car        66    S1 4SP   \n",
       "07/10/2017 14:26        Dave     Gibbs   42       Car        59   S10 1FB   \n",
       "7/13/2017 9:56:52       Dave      Ames   48       Car        78   BL1 3DU   \n",
       "7/13/2017 9:57:27      Leona        So   33       Car        67    M1 3HB   \n",
       "7/13/2017 9:58:14     Carrie    Preddy   32       Car        70    WN75HG   \n",
       "7/13/2017 9:58:30       Dave     Joyce   40     Train        60   S35 0AE   \n",
       "7/13/2017 9:58:36      Chris  Sharples   51       Car         4   YO232QR   \n",
       "7/13/2017 9:58:48      Kamru      Miah   54       Car         5  YO31 9AB   \n",
       "\n",
       "                   Journey Time  \n",
       "Timestamp                        \n",
       "07/09/2017 16:14           1.75  \n",
       "07/10/2017 14:26           1.25  \n",
       "7/13/2017 9:56:52          1.50  \n",
       "7/13/2017 9:57:27          2.00  \n",
       "7/13/2017 9:58:14          2.00  \n",
       "7/13/2017 9:58:30          2.80  \n",
       "7/13/2017 9:58:36          0.33  \n",
       "7/13/2017 9:58:48          0.25  "
      ]
     },
     "execution_count": 38,
     "metadata": {},
     "output_type": "execute_result"
    }
   ],
   "source": [
    "my_df"
   ]
  },
  {
   "cell_type": "markdown",
   "metadata": {},
   "source": [
    "The command in the cell below, will result in the diagrams we generate being displayed in the notebook, rather than elsewhere (I'm not sure where)."
   ]
  },
  {
   "cell_type": "code",
   "execution_count": 39,
   "metadata": {
    "collapsed": true
   },
   "outputs": [],
   "source": [
    "%matplotlib inline"
   ]
  },
  {
   "cell_type": "markdown",
   "metadata": {},
   "source": [
    "The command below will create a **bar chart** of the data from the **Distance** column, labelled with the corresponding **Family Name** values."
   ]
  },
  {
   "cell_type": "code",
   "execution_count": 40,
   "metadata": {},
   "outputs": [
    {
     "data": {
      "text/plain": [
       "<matplotlib.axes._subplots.AxesSubplot at 0x7f788bf80ef0>"
      ]
     },
     "execution_count": 40,
     "metadata": {},
     "output_type": "execute_result"
    },
    {
     "data": {
      "image/png": "[encoded data removed]",
      "text/plain": [
       "<matplotlib.figure.Figure at 0x7f788bf8bf28>"
      ]
     },
     "metadata": {},
     "output_type": "display_data"
    }
   ],
   "source": [
    "my_df.plot.bar(x=\"Surname\", y=\"Distance\")"
   ]
  },
  {
   "cell_type": "markdown",
   "metadata": {},
   "source": [
    "The command below, does the same but for the **Age** column."
   ]
  },
  {
   "cell_type": "code",
   "execution_count": 41,
   "metadata": {},
   "outputs": [
    {
     "data": {
      "text/plain": [
       "<matplotlib.axes._subplots.AxesSubplot at 0x7f788be7d748>"
      ]
     },
     "execution_count": 41,
     "metadata": {},
     "output_type": "execute_result"
    },
    {
     "data": {
      "image/png": "[encoded data removed]",
      "text/plain": [
       "<matplotlib.figure.Figure at 0x7f788be956a0>"
      ]
     },
     "metadata": {},
     "output_type": "display_data"
    }
   ],
   "source": [
    "my_df.plot.bar(x=\"Surname\", y=\"Age\")"
   ]
  },
  {
   "cell_type": "markdown",
   "metadata": {},
   "source": [
    "We can also plot bars for all of the numerical columns, grouped by **Family Name.**"
   ]
  },
  {
   "cell_type": "code",
   "execution_count": 42,
   "metadata": {},
   "outputs": [
    {
     "data": {
      "text/plain": [
       "<matplotlib.axes._subplots.AxesSubplot at 0x7f788be32c50>"
      ]
     },
     "execution_count": 42,
     "metadata": {},
     "output_type": "execute_result"
    },
    {
     "data": {
      "image/png": "[encoded data removed]",
      "text/plain": [
       "<matplotlib.figure.Figure at 0x7f788be17160>"
      ]
     },
     "metadata": {},
     "output_type": "display_data"
    }
   ],
   "source": [
    "my_df.plot.bar(x=\"Surname\")"
   ]
  },
  {
   "cell_type": "markdown",
   "metadata": {},
   "source": [
    "We can plot a line graph for each **Distance** value too (although mathematically this doesn't mean anything)."
   ]
  },
  {
   "cell_type": "code",
   "execution_count": 43,
   "metadata": {},
   "outputs": [
    {
     "data": {
      "text/plain": [
       "<matplotlib.axes._subplots.AxesSubplot at 0x7f788bd3e8d0>"
      ]
     },
     "execution_count": 43,
     "metadata": {},
     "output_type": "execute_result"
    },
    {
     "data": {
      "image/png": "[encoded data removed]",
      "text/plain": [
       "<matplotlib.figure.Figure at 0x7f788bd494a8>"
      ]
     },
     "metadata": {},
     "output_type": "display_data"
    }
   ],
   "source": [
    "my_df.plot.line(x=\"Surname\", rot=90, y=\"Distance\")"
   ]
  },
  {
   "cell_type": "markdown",
   "metadata": {},
   "source": [
    "A scatter graph looking for a correlation between **Journey Time** and **Distance** may make more sense."
   ]
  },
  {
   "cell_type": "code",
   "execution_count": 44,
   "metadata": {},
   "outputs": [
    {
     "data": {
      "text/plain": [
       "<matplotlib.axes._subplots.AxesSubplot at 0x7f788bcfca90>"
      ]
     },
     "execution_count": 44,
     "metadata": {},
     "output_type": "execute_result"
    },
    {
     "data": {
      "image/png": "[encoded data removed]",
      "text/plain": [
       "<matplotlib.figure.Figure at 0x7f788bccb710>"
      ]
     },
     "metadata": {},
     "output_type": "display_data"
    }
   ],
   "source": [
    "my_df.plot.scatter(x=\"Journey Time\", y=\"Distance\")"
   ]
  },
  {
   "cell_type": "markdown",
   "metadata": {},
   "source": [
    "There is more information about a variety of plot types here: [Pandas Documentation][1]\n",
    "\n",
    "[1]: https://pandas.pydata.org/pandas-docs/stable/visualization.html"
   ]
  },
  {
   "cell_type": "markdown",
   "metadata": {},
   "source": [
    "We can extract rows based on specific criteria and then run plot on this subset of data, very easily (here we extract those arriving by train)."
   ]
  },
  {
   "cell_type": "code",
   "execution_count": 45,
   "metadata": {},
   "outputs": [
    {
     "data": {
      "text/plain": [
       "<matplotlib.axes._subplots.AxesSubplot at 0x7f788bc71f98>"
      ]
     },
     "execution_count": 45,
     "metadata": {},
     "output_type": "execute_result"
    },
    {
     "data": {
      "image/png": "[encoded data removed]",
      "text/plain": [
       "<matplotlib.figure.Figure at 0x7f788bc8cc50>"
      ]
     },
     "metadata": {},
     "output_type": "display_data"
    }
   ],
   "source": [
    "my_df[my_df.Transport == \"Train\"].plot.scatter(x=\"Journey Time\", y=\"Distance\")"
   ]
  },
  {
   "cell_type": "markdown",
   "metadata": {},
   "source": [
    "We can do the same with just cars."
   ]
  },
  {
   "cell_type": "code",
   "execution_count": 46,
   "metadata": {},
   "outputs": [
    {
     "data": {
      "text/plain": [
       "<matplotlib.axes._subplots.AxesSubplot at 0x7f788bbefac8>"
      ]
     },
     "execution_count": 46,
     "metadata": {},
     "output_type": "execute_result"
    },
    {
     "data": {
      "image/png": "[encoded data removed]",
      "text/plain": [
       "<matplotlib.figure.Figure at 0x7f788bba6ef0>"
      ]
     },
     "metadata": {},
     "output_type": "display_data"
    }
   ],
   "source": [
    "my_df[my_df.Transport == \"Car\"].plot.scatter(x=\"Journey Time\", y=\"Distance\")"
   ]
  }
 ],
 "metadata": {
  "kernelspec": {
   "display_name": "Python 3",
   "language": "python",
   "name": "python3"
  },
  "language_info": {
   "codemirror_mode": {
    "name": "ipython",
    "version": 3
   },
   "file_extension": ".py",
   "mimetype": "text/x-python",
   "name": "python",
   "nbconvert_exporter": "python",
   "pygments_lexer": "ipython3",
   "version": "3.5.2"
  }
 },
 "nbformat": 4,
 "nbformat_minor": 2
}
