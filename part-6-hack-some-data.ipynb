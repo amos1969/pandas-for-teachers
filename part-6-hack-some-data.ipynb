{
 "cells": [
  {
   "cell_type": "markdown",
   "metadata": {},
   "source": [
    "# Hack Some Data!!!\n",
    "\n",
    "There are various data sources online, either download some datasets or use some of your own, and have a play.\n",
    "\n",
    "I'm not an expert in using these tools, but I learn something new every time I work with them.\n",
    "\n",
    "Some data sources:\n",
    "\n",
    "The UK Government's Datasets - https://data.gov.uk/\n",
    "\n",
    "The City Verve Project in Manchester - https://portal.bt-hypercat.com/ (This is where the car park data came from)\n",
    "\n",
    "There are also sites like the Weather Underground - https://www.wunderground.com/ which will let you interact with weather data for free. Maybe you can create a personal weather forecast for yourself.\n",
    "\n",
    "Or maybe you can modify the code here - http://www.cutsquash.com/2015/02/visualising-house-price-data-ipython/ to either plot pouse price data in your area, or maybe you could work out how to plot the Postcodes from the Google Form to show a map of where everyone has travelled from?\n",
    "\n",
    "See if you can create something cool in the time remaining."
   ]
  }
 ],
 "metadata": {
  "kernelspec": {
   "display_name": "Python 3",
   "language": "python",
   "name": "python3"
  },
  "language_info": {
   "codemirror_mode": {
    "name": "ipython",
    "version": 3
   },
   "file_extension": ".py",
   "mimetype": "text/x-python",
   "name": "python",
   "nbconvert_exporter": "python",
   "pygments_lexer": "ipython3",
   "version": "3.5.2"
  }
 },
 "nbformat": 4,
 "nbformat_minor": 2
}
