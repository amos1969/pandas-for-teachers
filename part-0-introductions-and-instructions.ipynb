{
 "cells": [
  {
   "cell_type": "markdown",
   "metadata": {},
   "source": [
    "<img src=\"firetech-logo.png\" alt=\"FireTech Logo\" style=\"width: 400px; float: left; \"/><br><br><br><br><br><br>\n",
    "\n",
    "# Pandas for Teachers\n",
    "\n",
    "## An Introduction\n",
    "\n",
    "### By Dave Ames \n",
    "\n",
    "#### E: david.a@firetechcamp.com\n",
    "#### T: @davidames\n",
    "\n",
    "Please go to https://github.com/amos1969/pandas-for-teachers and download the files for this session.\n",
    "\n",
    "Then please go to the Google Form here: https://goo.gl/forms/CXHA4nJtJoEDNGd23 and fill out some data about yourself (to use in the first task).\n",
    "\n",
    "If you haven't already done so you'll need to install the various packages we are using for this session:\n",
    "\n",
    "Do the following using the pip associated with Python 3 on your machine.\n",
    "\n",
    "**On Linux this was: **\n",
    "\n",
    "```bash\n",
    "$ sudo pip3 install jupyter\n",
    "$ sudo pip3 install pandas\n",
    "$ sudo pip3 install matplotlib\n",
    "$ sudo pip3 install 'holoviews[all]'\n",
    "$ sudo pip3 uninstall bokeh\n",
    "$ sudo pip3 install bokeh==0.12.9\n",
    "$ sudo pip3 install plotly\n",
    "```\n",
    "The `$` is there to indicate the command line prompt, don't type it!\n",
    "\n",
    "Start these going now, so that you have time to get them working before you start playing with the different parts of the session.\n",
    "\n",
    "**On the Raspberry Pi you would need to do the following - it's already been done on the ones at PyconUK!**\n",
    "```bash\n",
    "$ sudo apt install libatlas3-base\n",
    "$ sudo pip3 install numpy jupyter pandas matplotlib holoviews[all] plotly --ignore-installed\n",
    "$ sudo pip3 install \"bokeh<0.13dev\"\n",
    "```\n",
    "(Thanks Ben)\n",
    "\n",
    "On other platforms your mileage may vary."
   ]
  },
  {
   "cell_type": "markdown",
   "metadata": {},
   "source": [
    "Run `jupyter notebook` however you are supposed to start it on your system.\n",
    "\n",
    "On Linux and the Raspberry Pi, this involves opening a terminal and typing:\n",
    "```\n",
    "$ jupyter notebook\n",
    "```\n",
    "\n",
    "Then we need to have a look at **notebook** files and how to interact with them.\n",
    "\n",
    "There's a useful Cheatsheet for Jupyter Notebooks here: https://www.datacamp.com/community/blog/jupyter-notebook-cheat-sheet\n"
   ]
  }
 ],
 "metadata": {
  "kernelspec": {
   "display_name": "Python 3",
   "language": "python",
   "name": "python3"
  },
  "language_info": {
   "codemirror_mode": {
    "name": "ipython",
    "version": 3
   },
   "file_extension": ".py",
   "mimetype": "text/x-python",
   "name": "python",
   "nbconvert_exporter": "python",
   "pygments_lexer": "ipython3",
   "version": "3.5.2"
  }
 },
 "nbformat": 4,
 "nbformat_minor": 2
}
