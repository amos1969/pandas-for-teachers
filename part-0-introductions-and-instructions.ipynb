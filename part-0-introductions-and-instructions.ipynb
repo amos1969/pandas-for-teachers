{
 "cells": [
  {
   "cell_type": "markdown",
   "metadata": {},
   "source": [
    "![CAS Manchester Logo](http://casmanchester.org.uk/images/poster-image.png)\n",
    "\n",
    "# Pandas for Teachers\n",
    "\n",
    "## An Introduction\n",
    "\n",
    "### By Dave Ames \n",
    "\n",
    "#### E: david.john.ames@gmail.com / dave.ames@computingatschool.org.uk\n",
    "#### T: @davidames\n",
    "\n",
    "Please go to https://github.com/amos1969/pandas-for-teachers and download the files for this session.\n",
    "\n",
    "Then please go to the Google Form here: https://goo.gl/forms/0z9uk5jWlfIp1KAf2 and fill out some data about yourself (to use in the first task).\n",
    "\n",
    "Finally there is also a CAS Survey that Sue Sentance has put together, please take the time to go and fill it out: https://goo.gl/forms/DqC9ZowerH0otE2I3 \n",
    "\n",
    "If you haven't already done so you'll need to install the various packages we are using for this session:\n",
    "\n",
    "Do the following using the pip associated with Python 3 on your machine.\n",
    "\n",
    "On Linux this was: \n",
    "\n",
    "```bash\n",
    "$ sudo pip3 install jupyter\n",
    "$ sudo pip3 install pandas\n",
    "$ sudo pip3 install matplotlib\n",
    "$ sudo pip3 install 'holoviews[all]'\n",
    "$ sudo pip3 uninstall bokeh\n",
    "$ sudo pip3 install bokeh==0.12.9\n",
    "```\n",
    "The `$` is there to indicate the command line prompt, don't type it!\n",
    "\n",
    "Start these going now, so that you have time to get them working before you start playing with the different parts of the session."
   ]
  },
  {
   "cell_type": "markdown",
   "metadata": {},
   "source": [
    "Run `jupyter notebook` however you are supposed to start it on your system.\n",
    "\n",
    "On Linux, this involved opening a terminal and typing:\n",
    "```\n",
    "$ jupyter notebook\n",
    "```\n",
    "\n",
    "Then we need to have a look at an empty **notebook** file and how to interact with it.\n"
   ]
  }
 ],
 "metadata": {
  "kernelspec": {
   "display_name": "Python 3",
   "language": "python",
   "name": "python3"
  },
  "language_info": {
   "codemirror_mode": {
    "name": "ipython",
    "version": 3
   },
   "file_extension": ".py",
   "mimetype": "text/x-python",
   "name": "python",
   "nbconvert_exporter": "python",
   "pygments_lexer": "ipython3",
   "version": "3.5.2"
  }
 },
 "nbformat": 4,
 "nbformat_minor": 2
}
