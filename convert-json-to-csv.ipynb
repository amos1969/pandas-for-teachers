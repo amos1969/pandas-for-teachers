{
 "cells": [
  {
   "cell_type": "code",
   "execution_count": 16,
   "metadata": {},
   "outputs": [],
   "source": [
    "import json\n",
    "\n",
    "def create_csv(input_file, output_file):\n",
    "    my_data = []\n",
    "    with open(input_file, \"r\") as the_file:\n",
    "        for line in the_file:\n",
    "            line = line.strip()\n",
    "            my_data.append(line)\n",
    "\n",
    "    with open(output_file, \"w\") as the_file:\n",
    "        for thing in my_data:\n",
    "            parsed = json.loads(thing)\n",
    "            time = parsed[\"time\"]\n",
    "            time = time.replace(\",\", \"\")\n",
    "            the_file.write(time + \", \" + parsed[\"value\"] + \"\\n\")"
   ]
  },
  {
   "cell_type": "code",
   "execution_count": 17,
   "metadata": {
    "collapsed": true
   },
   "outputs": [],
   "source": [
    "create_csv(\"aquatics_centre.json\", \"aquatics_centre.csv\")\n",
    "create_csv(\"sackville_street.json\", \"sackville_street.csv\")"
   ]
  }
 ],
 "metadata": {
  "kernelspec": {
   "display_name": "Python 3",
   "language": "python",
   "name": "python3"
  },
  "language_info": {
   "codemirror_mode": {
    "name": "ipython",
    "version": 3
   },
   "file_extension": ".py",
   "mimetype": "text/x-python",
   "name": "python",
   "nbconvert_exporter": "python",
   "pygments_lexer": "ipython3",
   "version": "3.5.2"
  }
 },
 "nbformat": 4,
 "nbformat_minor": 2
}
