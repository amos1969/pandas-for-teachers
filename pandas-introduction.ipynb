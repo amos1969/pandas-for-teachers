{
 "cells": [
  {
   "cell_type": "markdown",
   "metadata": {
    "collapsed": true
   },
   "source": [
    "![CAS Manchester Logo](http://casmanchester.org.uk/images/poster-image.png)\n",
    "\n",
    "# Pandas for Teachers\n",
    "\n",
    "## An Introduction\n",
    "\n",
    "### By Dave Ames \n",
    "\n",
    "#### E: david.john.ames@gmail.com / dave.ames@computingatschool.org.uk\n",
    "#### T: @davidames\n",
    "\n",
    "Before we do anything else, we need to generate some data to work on. Please take a minute to go to this [Google Form](https://goo.gl/forms/0z9uk5jWlfIp1KAf2) and fill out some data about yourself (only share things you are willing to make public). Thanks!"
   ]
  },
  {
   "cell_type": "markdown",
   "metadata": {},
   "source": [
    "Once this is done, you'll all need to grab a copy of the results. Go [here](https://drive.google.com/drive/folders/0B0ZesRdIs8dMOXVreUE5WmhNZFE?usp=sharing) to get a copy of the CSV file.\n",
    "\n",
    "Rename it (if necessary to results.csv and save it in the same directory as this ipynb file)"
   ]
  },
  {
   "cell_type": "markdown",
   "metadata": {},
   "source": [
    "First of all we need to do some import statements. These can go anywhere in your code, but it's arguably easier to maintain, if all of the imports are kept together in the same cell. So if you need to add anymore modules later on, add the import statement in the next cell and re-evaluate it.\n",
    "\n",
    "To run the cell either put the cursor in the cell and click on the **run** icon above, or place your cursor in the cell and press **CTRL** and **ENTER** together. (**SHIFT** and **ENTER** also works)."
   ]
  },
  {
   "cell_type": "code",
   "execution_count": 1,
   "metadata": {
    "collapsed": true
   },
   "outputs": [],
   "source": [
    "import pandas as pd"
   ]
  },
  {
   "cell_type": "markdown",
   "metadata": {},
   "source": [
    "Now we are going to load up our CSV file into a Pandas DataFrame. This is a special data structure that has many methods attached that allow it to behave like a Python version of a spreadsheet or a table, but stored in a variable in your program.\n",
    "\n",
    "Run the code below by clicking into the cell and doing the same as before.\n",
    "\n",
    "You should see a number appear in the square brackets to the left of the cell, this tells you that the cell has successfully been evaluated (an asterisk appears first to show that the code is in the process of being run). The number equates to what order the cells have been run in."
   ]
  },
  {
   "cell_type": "code",
   "execution_count": 3,
   "metadata": {
    "collapsed": true
   },
   "outputs": [],
   "source": [
    "my_data_frame = pd.read_csv(\"responses.csv\")"
   ]
  },
  {
   "cell_type": "markdown",
   "metadata": {},
   "source": [
    "To see what's inside any variable at any given point we can just put the name of the variable on its' own and evaluate it, this is the same as in the standard Python Shell, as the Notebook is essentially a souped up version of the Python Shell on serious amounts of steroids."
   ]
  },
  {
   "cell_type": "code",
   "execution_count": 4,
   "metadata": {},
   "outputs": [
    {
     "data": {
      "text/html": [
       "<div>\n",
       "<style>\n",
       "    .dataframe thead tr:only-child th {\n",
       "        text-align: right;\n",
       "    }\n",
       "\n",
       "    .dataframe thead th {\n",
       "        text-align: left;\n",
       "    }\n",
       "\n",
       "    .dataframe tbody tr th {\n",
       "        vertical-align: top;\n",
       "    }\n",
       "</style>\n",
       "<table border=\"1\" class=\"dataframe\">\n",
       "  <thead>\n",
       "    <tr style=\"text-align: right;\">\n",
       "      <th></th>\n",
       "      <th>Timestamp</th>\n",
       "      <th>First Name</th>\n",
       "      <th>Surname</th>\n",
       "      <th>Age</th>\n",
       "      <th>Transport</th>\n",
       "      <th>Distance</th>\n",
       "      <th>Postcode</th>\n",
       "      <th>Journey Time</th>\n",
       "    </tr>\n",
       "  </thead>\n",
       "  <tbody>\n",
       "    <tr>\n",
       "      <th>0</th>\n",
       "      <td>07/09/2017 16:14</td>\n",
       "      <td>Sue</td>\n",
       "      <td>Finnigan</td>\n",
       "      <td>53</td>\n",
       "      <td>Car</td>\n",
       "      <td>66</td>\n",
       "      <td>S1 4SP</td>\n",
       "      <td>1.75</td>\n",
       "    </tr>\n",
       "    <tr>\n",
       "      <th>1</th>\n",
       "      <td>07/10/2017 14:26</td>\n",
       "      <td>Dave</td>\n",
       "      <td>Gibbs</td>\n",
       "      <td>42</td>\n",
       "      <td>Car</td>\n",
       "      <td>59</td>\n",
       "      <td>S10 1FB</td>\n",
       "      <td>1.25</td>\n",
       "    </tr>\n",
       "    <tr>\n",
       "      <th>2</th>\n",
       "      <td>7/13/2017 9:56:52</td>\n",
       "      <td>Dave</td>\n",
       "      <td>Ames</td>\n",
       "      <td>48</td>\n",
       "      <td>Car</td>\n",
       "      <td>78</td>\n",
       "      <td>BL1 3DU</td>\n",
       "      <td>1.50</td>\n",
       "    </tr>\n",
       "    <tr>\n",
       "      <th>3</th>\n",
       "      <td>7/13/2017 9:57:27</td>\n",
       "      <td>Leona</td>\n",
       "      <td>So</td>\n",
       "      <td>33</td>\n",
       "      <td>Car</td>\n",
       "      <td>67</td>\n",
       "      <td>M1 3HB</td>\n",
       "      <td>2.00</td>\n",
       "    </tr>\n",
       "    <tr>\n",
       "      <th>4</th>\n",
       "      <td>7/13/2017 9:58:14</td>\n",
       "      <td>Carrie</td>\n",
       "      <td>Preddy</td>\n",
       "      <td>32</td>\n",
       "      <td>Car</td>\n",
       "      <td>70</td>\n",
       "      <td>WN75HG</td>\n",
       "      <td>2.00</td>\n",
       "    </tr>\n",
       "    <tr>\n",
       "      <th>5</th>\n",
       "      <td>7/13/2017 9:58:30</td>\n",
       "      <td>Dave</td>\n",
       "      <td>Joyce</td>\n",
       "      <td>40</td>\n",
       "      <td>Train</td>\n",
       "      <td>60</td>\n",
       "      <td>S35 0AE</td>\n",
       "      <td>2.80</td>\n",
       "    </tr>\n",
       "    <tr>\n",
       "      <th>6</th>\n",
       "      <td>7/13/2017 9:58:36</td>\n",
       "      <td>Chris</td>\n",
       "      <td>Sharples</td>\n",
       "      <td>51</td>\n",
       "      <td>Car</td>\n",
       "      <td>4</td>\n",
       "      <td>YO232QR</td>\n",
       "      <td>0.33</td>\n",
       "    </tr>\n",
       "    <tr>\n",
       "      <th>7</th>\n",
       "      <td>7/13/2017 9:58:48</td>\n",
       "      <td>Kamru</td>\n",
       "      <td>Miah</td>\n",
       "      <td>54</td>\n",
       "      <td>Car</td>\n",
       "      <td>5</td>\n",
       "      <td>YO31 9AB</td>\n",
       "      <td>0.25</td>\n",
       "    </tr>\n",
       "  </tbody>\n",
       "</table>\n",
       "</div>"
      ],
      "text/plain": [
       "           Timestamp First Name   Surname  Age Transport  Distance  Postcode  \\\n",
       "0   07/09/2017 16:14        Sue  Finnigan   53       Car        66    S1 4SP   \n",
       "1   07/10/2017 14:26       Dave     Gibbs   42       Car        59   S10 1FB   \n",
       "2  7/13/2017 9:56:52       Dave      Ames   48       Car        78   BL1 3DU   \n",
       "3  7/13/2017 9:57:27      Leona        So   33       Car        67    M1 3HB   \n",
       "4  7/13/2017 9:58:14     Carrie    Preddy   32       Car        70    WN75HG   \n",
       "5  7/13/2017 9:58:30       Dave     Joyce   40     Train        60   S35 0AE   \n",
       "6  7/13/2017 9:58:36      Chris  Sharples   51       Car         4   YO232QR   \n",
       "7  7/13/2017 9:58:48      Kamru      Miah   54       Car         5  YO31 9AB   \n",
       "\n",
       "   Journey Time  \n",
       "0          1.75  \n",
       "1          1.25  \n",
       "2          1.50  \n",
       "3          2.00  \n",
       "4          2.00  \n",
       "5          2.80  \n",
       "6          0.33  \n",
       "7          0.25  "
      ]
     },
     "execution_count": 4,
     "metadata": {},
     "output_type": "execute_result"
    }
   ],
   "source": [
    "my_data_frame"
   ]
  },
  {
   "cell_type": "markdown",
   "metadata": {},
   "source": [
    "We can access the data in a variety of ways, but normally we want to use the column headings as a way of identifying the columns. These default to the values that we had when importing the data. We can"
   ]
  },
  {
   "cell_type": "code",
   "execution_count": 6,
   "metadata": {},
   "outputs": [
    {
     "data": {
      "text/plain": [
       "Index(['Timestamp', 'First Name', 'Surname', 'Age', 'Transport', 'Distance',\n",
       "       'Postcode', 'Journey Time'],\n",
       "      dtype='object')"
      ]
     },
     "execution_count": 6,
     "metadata": {},
     "output_type": "execute_result"
    }
   ],
   "source": [
    "my_data_frame.columns"
   ]
  },
  {
   "cell_type": "markdown",
   "metadata": {},
   "source": []
  },
  {
   "cell_type": "code",
   "execution_count": 7,
   "metadata": {},
   "outputs": [
    {
     "data": {
      "text/plain": [
       "RangeIndex(start=0, stop=8, step=1)"
      ]
     },
     "execution_count": 7,
     "metadata": {},
     "output_type": "execute_result"
    }
   ],
   "source": [
    "my_data_frame.index"
   ]
  },
  {
   "cell_type": "markdown",
   "metadata": {},
   "source": []
  },
  {
   "cell_type": "code",
   "execution_count": 8,
   "metadata": {},
   "outputs": [
    {
     "data": {
      "text/plain": [
       "(8, 8)"
      ]
     },
     "execution_count": 8,
     "metadata": {},
     "output_type": "execute_result"
    }
   ],
   "source": [
    "my_data_frame.shape"
   ]
  },
  {
   "cell_type": "code",
   "execution_count": null,
   "metadata": {
    "collapsed": true
   },
   "outputs": [],
   "source": []
  }
 ],
 "metadata": {
  "kernelspec": {
   "display_name": "Python 3",
   "language": "python",
   "name": "python3"
  },
  "language_info": {
   "codemirror_mode": {
    "name": "ipython",
    "version": 3
   },
   "file_extension": ".py",
   "mimetype": "text/x-python",
   "name": "python",
   "nbconvert_exporter": "python",
   "pygments_lexer": "ipython3",
   "version": "3.5.2"
  }
 },
 "nbformat": 4,
 "nbformat_minor": 2
}
