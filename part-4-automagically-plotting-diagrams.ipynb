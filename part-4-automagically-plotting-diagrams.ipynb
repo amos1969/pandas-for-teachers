{
 "cells": [
  {
   "cell_type": "markdown",
   "metadata": {},
   "source": [
    "# Use another library to make more complex diagrams\n",
    "\n",
    "We're going to use a library called HoloViews which automates some of the more fiddly steps with manually creating data plots.\n",
    "\n",
    "**Note:** You will probably get a warning here, if it is about **seaborn.apionly** being deprecated, then everything should just work, if it is a different warning then please tell me so that we can investigate further."
   ]
  },
  {
   "cell_type": "code",
   "execution_count": null,
   "metadata": {},
   "outputs": [],
   "source": [
    "import pandas as pd\n",
    "import holoviews as hv\n",
    "hv.extension('bokeh', 'matplotlib')"
   ]
  },
  {
   "cell_type": "markdown",
   "metadata": {},
   "source": [
    "Lets load up the Aquatics Centre car park data again."
   ]
  },
  {
   "cell_type": "code",
   "execution_count": null,
   "metadata": {
    "collapsed": true
   },
   "outputs": [],
   "source": [
    "aquatics = pd.read_csv(\"aquatics.csv\", parse_dates=[\"timestamp\"])"
   ]
  },
  {
   "cell_type": "markdown",
   "metadata": {},
   "source": [
    "We now need to create a HoloViews Dataset to hold our data. The kdims part tells HoloViews to use the timestamp as a key dimension across the bottom (a key dimension is an independent variable in our data)."
   ]
  },
  {
   "cell_type": "code",
   "execution_count": null,
   "metadata": {
    "collapsed": true
   },
   "outputs": [],
   "source": [
    "aq = hv.Dataset(aquatics, kdims = [('timestamp', 'Time')], vdims =[('spaces', \"Parking Spaces\")])"
   ]
  },
  {
   "cell_type": "markdown",
   "metadata": {},
   "source": [
    "The first of the next two lines tells HoloViews (or Bokeh in this case) how big to make the diagram, then the following line actually tells it to convert it to a Curve (we'll do this differently a bit later)."
   ]
  },
  {
   "cell_type": "code",
   "execution_count": null,
   "metadata": {},
   "outputs": [],
   "source": [
    "%%opts Curve [width=600 height=350] \n",
    "aq.to(hv.Curve, 'timestamp', 'spaces')"
   ]
  },
  {
   "cell_type": "markdown",
   "metadata": {},
   "source": [
    "Lets load in the Sackville Street data too, and see if we can do something cool with the two sets of data."
   ]
  },
  {
   "cell_type": "code",
   "execution_count": null,
   "metadata": {
    "collapsed": true
   },
   "outputs": [],
   "source": [
    "sackville = pd.read_csv(\"sackville.csv\", parse_dates=[\"timestamp\"])"
   ]
  },
  {
   "cell_type": "code",
   "execution_count": null,
   "metadata": {
    "collapsed": true
   },
   "outputs": [],
   "source": [
    "sv = hv.Dataset(sackville, kdims = [('timestamp', 'Time')], vdims=[('spaces', \"Parking Spaces\")])"
   ]
  },
  {
   "cell_type": "markdown",
   "metadata": {},
   "source": [
    "We can plot both of these data sets on two \"parallel\" graphs which will link the data.\n",
    "\n",
    "First we're going to create the two Curves from the datasets we created before, and then combine them in various ways later. \n",
    "\n",
    "The **extents** part tells Holoviews that where we want the basic view of the axes to be (here it asks it to draw the x axis as big as the data - the None options, and the y axis from 0 to 500)."
   ]
  },
  {
   "cell_type": "code",
   "execution_count": null,
   "metadata": {
    "collapsed": true
   },
   "outputs": [],
   "source": [
    "aqua = hv.Curve((aq), label=\"Aquatics\", extents=(None, 0, None, 450 ))"
   ]
  },
  {
   "cell_type": "code",
   "execution_count": null,
   "metadata": {
    "collapsed": true
   },
   "outputs": [],
   "source": [
    "sack = hv.Curve((sv), label=\"Sackville\", extents=(None, 0, None, 450 ))"
   ]
  },
  {
   "cell_type": "markdown",
   "metadata": {},
   "source": [
    "Then we tell Holoviews that we want to display them both. The **+** puts them into different (but linked) graphs."
   ]
  },
  {
   "cell_type": "code",
   "execution_count": null,
   "metadata": {},
   "outputs": [],
   "source": [
    "aqua + sack"
   ]
  },
  {
   "cell_type": "markdown",
   "metadata": {},
   "source": [
    "Try panning or zooming in one of the graphs, notice that the other graph moves too.\n",
    "\n",
    "Currently the size of the graphs could be improved, we can do this by passing some options in to tell Holoviews how we want the graph to be output, using the %% multi-line magic functions."
   ]
  },
  {
   "cell_type": "code",
   "execution_count": null,
   "metadata": {},
   "outputs": [],
   "source": [
    "%%opts Curve [width=600 height=300 show_grid=True] \n",
    "aqua + sack"
   ]
  },
  {
   "cell_type": "markdown",
   "metadata": {},
   "source": [
    "Annoyingly these are side by side. By passing in a columns option we can make them one above the other, again panning and zooming one moves the other linked graph."
   ]
  },
  {
   "cell_type": "code",
   "execution_count": null,
   "metadata": {},
   "outputs": [],
   "source": [
    "%%opts Curve [width=600 height=300 show_grid=True] \n",
    "(aqua + sack).cols(1)"
   ]
  },
  {
   "cell_type": "markdown",
   "metadata": {},
   "source": [
    "We can also change lots of things such as line colours and other options."
   ]
  },
  {
   "cell_type": "code",
   "execution_count": null,
   "metadata": {},
   "outputs": [],
   "source": [
    "%%opts Curve [width=600 height=300 show_grid=True] \n",
    "%%opts Curve.Aquatics (color='green')\n",
    "%%opts Curve.Sackville (color='red')\n",
    "(aqua + sack).cols(1)"
   ]
  },
  {
   "cell_type": "markdown",
   "metadata": {},
   "source": [
    "We can plot the two graphs on the same axes, by using **\\*** instead of **+**"
   ]
  },
  {
   "cell_type": "code",
   "execution_count": null,
   "metadata": {},
   "outputs": [],
   "source": [
    "%%opts Curve [width=600 height=400 tools=[\"hover\"]] \n",
    "%%opts Curve.Aquatics (color='green')\n",
    "%%opts Curve.Sackville (color='red')\n",
    "aqua *  sack"
   ]
  },
  {
   "cell_type": "markdown",
   "metadata": {},
   "source": [
    "There are a load of different types of diagram that you can display, and effects that you can achieve, more details can be found [here](http://holoviews.org/user_guide/Plotting_with_Bokeh.html).\n",
    "\n",
    "Go and experiment with it."
   ]
  }
 ],
 "metadata": {
  "kernelspec": {
   "display_name": "Python 3",
   "language": "python",
   "name": "python3"
  },
  "language_info": {
   "codemirror_mode": {
    "name": "ipython",
    "version": 3
   },
   "file_extension": ".py",
   "mimetype": "text/x-python",
   "name": "python",
   "nbconvert_exporter": "python",
   "pygments_lexer": "ipython3",
   "version": "3.5.2"
  }
 },
 "nbformat": 4,
 "nbformat_minor": 2
}
