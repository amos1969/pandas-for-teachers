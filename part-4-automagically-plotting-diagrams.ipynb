{
 "cells": [
  {
   "cell_type": "markdown",
   "metadata": {},
   "source": [
    "# Use another library to make more complex diagrams\n",
    "\n",
    "We're going to use a library called HoloViews which automates some of the more fiddly steps with manually creating data plots.\n",
    "\n",
    "**Note:** You will probably get a warning here, if it is about **seaborn.apionly** being deprecated, then everything should just work, if it is a different warning then please tell me so that we can investigate further."
   ]
  },
  {
   "cell_type": "code",
   "execution_count": null,
   "metadata": {},
   "outputs": [],
   "source": [
    "import pandas as pd\n",
    "import holoviews as hv\n",
    "hv.extension('bokeh', 'matplotlib')"
   ]
  },
  {
   "cell_type": "markdown",
   "metadata": {},
   "source": [
    "Lets load up the Aquatics Centre car park data again."
   ]
  },
  {
   "cell_type": "code",
   "execution_count": null,
   "metadata": {
    "collapsed": true
   },
   "outputs": [],
   "source": [
    "aquatics = pd.read_csv(\"aquatics.csv\")"
   ]
  },
  {
   "cell_type": "markdown",
   "metadata": {},
   "source": [
    "We now need to create a HoloViews Dataset to hold our data. The kdims part tells HoloViews to use the timestamp as a key dimension across the bottom (a key dimension is an independent variable in our data)."
   ]
  },
  {
   "cell_type": "code",
   "execution_count": null,
   "metadata": {
    "collapsed": true
   },
   "outputs": [],
   "source": [
    "aq = hv.Dataset(aquatics, kdims = [('timestamp', 'Time'), ('spaces', \"Parking Spaces\")])"
   ]
  },
  {
   "cell_type": "markdown",
   "metadata": {},
   "source": [
    "The first of the next two lines tells HoloViews (or Bokeh in this case) how big to make the diagram, then the following line actually tells "
   ]
  },
  {
   "cell_type": "code",
   "execution_count": null,
   "metadata": {},
   "outputs": [],
   "source": [
    "%%opts Curve [width=600 height=350] \n",
    "aq.to(hv.Curve, 'timestamp', 'spaces')"
   ]
  },
  {
   "cell_type": "markdown",
   "metadata": {},
   "source": [
    "Lets load in the Sackville Street data too, and see if we can do something cool with the two sets of data."
   ]
  },
  {
   "cell_type": "code",
   "execution_count": null,
   "metadata": {
    "collapsed": true
   },
   "outputs": [],
   "source": [
    "sackville = pd.read_csv(\"sackville.csv\")"
   ]
  },
  {
   "cell_type": "code",
   "execution_count": null,
   "metadata": {
    "collapsed": true
   },
   "outputs": [],
   "source": [
    "sv = hv.Dataset(sackville, kdims = [('timestamp', 'Time'), ('spaces', \"Parking Spaces\")])"
   ]
  },
  {
   "cell_type": "markdown",
   "metadata": {},
   "source": [
    "We can plot both of these data sets on two \"parallel\" graphs which will partially link the data.\n",
    "\n",
    "**Note:** All of the examples seem to link on the x-axis too, but for some reason this hasn't happended when I've used them, and I've yet to fix this (or find out how)."
   ]
  },
  {
   "cell_type": "code",
   "execution_count": null,
   "metadata": {},
   "outputs": [],
   "source": [
    "%%opts Curve [width=300 height=300]  Layout [shared_axes=True shared_datasource=True] {+framewise}\n",
    "(aq.to(hv.Curve, 'timestamp', 'spaces') + sv.to(hv.Curve, 'timestamp', 'spaces'))"
   ]
  },
  {
   "cell_type": "markdown",
   "metadata": {},
   "source": [
    "There are a load of different types of diagram that you can display, and effects that you can achieve, more details can be found [here](http://holoviews.org/user_guide/Plotting_with_Bokeh.html).\n",
    "\n",
    "Go and experiment with it.\n",
    "\n",
    "One obvious improvement would be to improve the data labels on the bottom axis (the black and grey thick lines you can see are actually every single timestamp overlayed on each other)."
   ]
  },
  {
   "cell_type": "markdown",
   "metadata": {},
   "source": [
    "**Challenge:** Can you make it plot the two sets of data onto the same graph?"
   ]
  }
 ],
 "metadata": {
  "kernelspec": {
   "display_name": "Python 3",
   "language": "python",
   "name": "python3"
  },
  "language_info": {
   "codemirror_mode": {
    "name": "ipython",
    "version": 3
   },
   "file_extension": ".py",
   "mimetype": "text/x-python",
   "name": "python",
   "nbconvert_exporter": "python",
   "pygments_lexer": "ipython3",
   "version": "3.5.2"
  }
 },
 "nbformat": 4,
 "nbformat_minor": 2
}
